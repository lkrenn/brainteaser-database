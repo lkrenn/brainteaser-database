{
 "cells": [
  {
   "cell_type": "markdown",
   "id": "0edfd932-c22b-4cd4-a7c4-1edb7b8ed287",
   "metadata": {},
   "source": [
    "## Q: \n",
    "There is a classroom of $3$ boys and $n$ girls. A student walks into the room of unknown gender (assume equal probability for gender). The teacher then picks a student from the class. What is the probability a boy walked into the room given that the teacher picked a boy? \n",
    "### A:\n",
    "The girls aspect to this question is irrelevant. Take a step back and focus on the boys part. There are two scenarios: either $3$ boys in the room or $4$. The probability thus is:\n",
    "\n",
    "$$\n",
    "\\frac{4\\text{ boys}}{(4\\text{ boys }+3\\text{ boys})} = \\frac{4}{7}\n",
    "$$"
   ]
  },
  {
   "cell_type": "code",
   "execution_count": null,
   "id": "494b47be-8ca4-4f30-b661-2573051e0ae0",
   "metadata": {},
   "outputs": [],
   "source": []
  }
 ],
 "metadata": {
  "kernelspec": {
   "display_name": "Python 3 (ipykernel)",
   "language": "python",
   "name": "python3"
  },
  "language_info": {
   "codemirror_mode": {
    "name": "ipython",
    "version": 3
   },
   "file_extension": ".py",
   "mimetype": "text/x-python",
   "name": "python",
   "nbconvert_exporter": "python",
   "pygments_lexer": "ipython3",
   "version": "3.10.1"
  }
 },
 "nbformat": 4,
 "nbformat_minor": 5
}
