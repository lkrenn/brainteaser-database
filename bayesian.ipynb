{
 "cells": [
  {
   "cell_type": "markdown",
   "id": "0edfd932-c22b-4cd4-a7c4-1edb7b8ed287",
   "metadata": {},
   "source": [
    "## Q: \n",
    "There is a classroom of $3$ boys and $n$ girls. A student walks into the room of unknown gender (assume equal probability for gender). The teacher then picks a student from the class. What is the probability a boy walked into the room given that the teacher picked a boy? \n",
    "### A:\n",
    "The girls aspect to this question is irrelevant. Take a step back and focus on the boys part. There are two scenarios: either $3$ boys in the room or $4$. The probability thus is:\n",
    "\n",
    "$$\n",
    "\\frac{4\\text{ boys}}{(4\\text{ boys }+3\\text{ boys})} = \\frac{4}{7}\n",
    "$$"
   ]
  },
  {
   "cell_type": "markdown",
   "id": "4229121a-90fc-4f50-a59f-a3c8ab0e349b",
   "metadata": {},
   "source": [
    "## Q: \n",
    "Suppose you roll a fair 6-sided die until you've seen all 6 faces. What is the probability you won't see an odd numbered face until you have seen all even numbered faces?\n",
    "\n",
    "### A:\n",
    "\n",
    "We can answer this question by working backwards. What is the probability of seeing the final even numbered face (i.e. already seeing two even numbers) before seeing an odd numbered side? \n",
    "\n",
    "<img src=\"img/bayesian/1.png\" style=\"margin:auto\"/>\n",
    "\n",
    "Using this diagram, we can see that there are two paths we can take to eventually roll the final even number: roll 1 of the 2 even numbers that have been seen before (i.e. starting the process over again), or roll the final even number itself. Therefore:\n",
    "\n",
    "$$\n",
    "\\begin{align}\n",
    "P(\\text{rolling the third even number | two evens already seen}) &= 1/6 + 2/6 \\cdot P(\\text{rolling the third even number | two evens already seen}) \\\\\n",
    "\\iff 4/6 \\cdot P(\\text{rolling the third even number | two evens already seen}) &= 1/6 \\\\\n",
    "\\iff P(\\text{rolling the third even number | two evens already seen}) &= 1/4\n",
    "\\end{align}\n",
    "$$\n",
    "\n",
    "Now that we have the basis for the solution, let's do the same for seeing the seccond even number given that we've seen the first even number. One can simply keep the same diagaram as above but adjust the probabilities. Therefore:\n",
    "\n",
    "$$\n",
    "\\text{Let } X \\text{ represent } P(\\text{rolling the second even number | two evens already seen})\\text{ then:}\\\\\n",
    "\\begin{align}\n",
    "X &= 2/6 + 1/6 \\cdot X\\\\\n",
    "\\iff X&= 2/5\n",
    "\\end{align}\n",
    "$$\n",
    "\n",
    "And finally, the first even number, which requires no algebra as the probability of rolling an even number is $1/2$. Putting this all together we get:\n",
    "\n",
    "$$\n",
    "P(\\text{Rolling all 3 even numbers before seeing an odd}) = 1/4 \\cdot 2/5 \\cdot 1/2 = \\boxed{1/20}\n",
    "$$\n",
    "\n",
    "Note that there is a solution to this problem in the counting section as well."
   ]
  },
  {
   "cell_type": "code",
   "execution_count": null,
   "id": "6109a2a9-4dfa-4dc3-9939-e9b97f6faf4c",
   "metadata": {},
   "outputs": [],
   "source": []
  }
 ],
 "metadata": {
  "kernelspec": {
   "display_name": "Python 3 (ipykernel)",
   "language": "python",
   "name": "python3"
  },
  "language_info": {
   "codemirror_mode": {
    "name": "ipython",
    "version": 3
   },
   "file_extension": ".py",
   "mimetype": "text/x-python",
   "name": "python",
   "nbconvert_exporter": "python",
   "pygments_lexer": "ipython3",
   "version": "3.10.1"
  }
 },
 "nbformat": 4,
 "nbformat_minor": 5
}
