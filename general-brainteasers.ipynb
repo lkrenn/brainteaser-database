{
 "cells": [
  {
   "cell_type": "markdown",
   "id": "1f3f58a1-fe25-4643-bc93-66bc0de4f3de",
   "metadata": {},
   "source": [
    "### Q:\n",
    "100 prisoners in jail are standing in a queue facing in one direction. Each prisoner is wearing a hat of color either black or red. A prisoner can see hats of all prisoners in front of him in the queue, but cannot see his hat and hats of prisoners standing behind him. \n",
    "The jailer is going to ask color of each prisoner’s hat starting from the last prisoner in queue. If a prisoner tells the correct color, then is saved, otherwise executed. How many prisoners can be saved at most if they are allowed to discuss a strategy before the jailer starts asking colors of their hats?\n",
    "\n",
    "## A:\n",
    "Notice that the jailer starts from the last prisoner in the queue, and the last prisoner can see the hat of the person in front of them, and so on. Therefore, the strategy is for all prisoners to say the colour of the prisoner standing in front of them, thus telling the next prisoner the correct colour of their hat. Assuming a 50/50 split in hat colours, the first prisoner thus has a 50/50 chance of being correct. At most, all prisoners can be saved, and at worst, 99/100 are saved."
   ]
  },
  {
   "cell_type": "code",
   "execution_count": null,
   "id": "7beef8b8-92f5-40f6-8d9d-adf602f89165",
   "metadata": {},
   "outputs": [],
   "source": []
  }
 ],
 "metadata": {
  "kernelspec": {
   "display_name": "Python 3 (ipykernel)",
   "language": "python",
   "name": "python3"
  },
  "language_info": {
   "codemirror_mode": {
    "name": "ipython",
    "version": 3
   },
   "file_extension": ".py",
   "mimetype": "text/x-python",
   "name": "python",
   "nbconvert_exporter": "python",
   "pygments_lexer": "ipython3",
   "version": "3.10.1"
  }
 },
 "nbformat": 4,
 "nbformat_minor": 5
}
