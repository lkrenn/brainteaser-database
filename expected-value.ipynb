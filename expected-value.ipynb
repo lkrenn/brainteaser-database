{
 "cells": [
  {
   "cell_type": "code",
   "execution_count": 1,
   "id": "e8847e26-dd59-4412-a89a-c073481a2b99",
   "metadata": {},
   "outputs": [],
   "source": [
    "import matplotlib.pyplot as plt\n",
    "import random\n",
    "import numpy as np"
   ]
  },
  {
   "cell_type": "markdown",
   "id": "3d2bd8ec-53ba-402d-a873-aa03c714a562",
   "metadata": {
    "tags": []
   },
   "source": [
    "## Q:\n",
    "You roll a 4-sided die and sum the results until you reach a sum $\\geq 100$. What is the expected value of this sum?\n",
    "\n",
    "### A: \n",
    "We can enumerate the number of ways we can get to a sum $\\geq 100$:\n",
    "* $103$ : $(99+4)$\n",
    "* $102$ : $(99+3),(98+4)$\n",
    "* $101$ : $(99+2),(98+3),(97+4)$\n",
    "* $100$ : $(99+1),(98+2),(97+3),(96+4)$\n",
    "\n",
    "Then, we get the expected value:\n",
    "$$\n",
    "E[x] = xP(x) = 103\\frac{1}{10}+102\\frac{2}{10}+101\\frac{3}{10}+100\\frac{4}{10}=101\n",
    "$$\n",
    "One can then ask, but is the probability of arriving at each of these prior numbers equal? To hit the point home, let us run some simulations:"
   ]
  },
  {
   "cell_type": "code",
   "execution_count": 2,
   "id": "37036b4a-f49e-4690-bd7e-bf44f636c9b5",
   "metadata": {},
   "outputs": [
    {
     "data": {
      "image/png": "[encoded data removed]",
      "text/plain": [
       "<Figure size 432x288 with 1 Axes>"
      ]
     },
     "metadata": {
      "needs_background": "light"
     },
     "output_type": "display_data"
    },
    {
     "data": {
      "text/plain": [
       "100.9997657"
      ]
     },
     "execution_count": 2,
     "metadata": {},
     "output_type": "execute_result"
    }
   ],
   "source": [
    "def simulate_rolls():\n",
    "    roll_sum = 0\n",
    "    while roll_sum < 100:\n",
    "        roll_sum += random.randint(1,4)\n",
    "    return roll_sum    \n",
    "\n",
    "res_list = [simulate_rolls() for _ in range(10000000)]\n",
    "\n",
    "plt.figure()\n",
    "plt.hist(res_list)\n",
    "plt.show()\n",
    "\n",
    "np.array(res_list).mean()"
   ]
  },
  {
   "cell_type": "markdown",
   "id": "b93726e3-dd6e-4075-a8f6-619c1cc134fc",
   "metadata": {},
   "source": []
  },
  {
   "cell_type": "code",
   "execution_count": null,
   "id": "ca98e25b-d587-429a-881c-02bd85930e56",
   "metadata": {},
   "outputs": [],
   "source": []
  }
 ],
 "metadata": {
  "kernelspec": {
   "display_name": "Python 3 (ipykernel)",
   "language": "python",
   "name": "python3"
  },
  "language_info": {
   "codemirror_mode": {
    "name": "ipython",
    "version": 3
   },
   "file_extension": ".py",
   "mimetype": "text/x-python",
   "name": "python",
   "nbconvert_exporter": "python",
   "pygments_lexer": "ipython3",
   "version": "3.10.1"
  }
 },
 "nbformat": 4,
 "nbformat_minor": 5
}
